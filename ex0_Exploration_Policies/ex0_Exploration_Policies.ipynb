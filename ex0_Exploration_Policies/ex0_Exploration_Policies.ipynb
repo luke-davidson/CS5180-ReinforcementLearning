{
 "cells": [
  {
   "cell_type": "markdown",
   "metadata": {},
   "source": [
    "# Please install the following python libraries\n",
    "- python3: https://www.python.org/\n",
    "- numpy: https://numpy.org/install/\n",
    "- tqdm: https://github.com/tqdm/tqdm#installation\n",
    "- matplotlib: https://matplotlib.org/stable/users/installing/index.html"
   ]
  },
  {
   "cell_type": "code",
   "execution_count": 17,
   "metadata": {},
   "outputs": [],
   "source": [
    "import random\n",
    "import numpy as np\n",
    "import tqdm.notebook as tqdm\n",
    "import matplotlib.pyplot as plt"
   ]
  },
  {
   "cell_type": "markdown",
   "metadata": {},
   "source": [
    "# 1: Complete the Implementation of the Four Rooms environment \n",
    "\n",
    "- The FourRooms is implemented as a python class. We explain the attributes and methods as follows\n",
    "    - **init** function: Define all the attributes of the Four Rooms environment. For example, the state space, the action space, the start state, the goal state and so on.\n",
    "    - **reset** function: Resets the agent to the start state (0, 0)\n",
    "    - **step** function: Takes the current state and one action, returns the next state and a reward\n",
    "   \n",
    "- Please complete the implementation in the step function."
   ]
  },
  {
   "cell_type": "code",
   "execution_count": 18,
   "metadata": {},
   "outputs": [],
   "source": [
    "# FOUR ROOM ENVIRONMENT\n",
    "class FourRooms(object):\n",
    "    def __init__(self):\n",
    "        # define the four room as a 2-D array for easy state space reference and visualization\n",
    "        # 0 represents an empty cell; 1 represents a wall cell\n",
    "        self.four_room_space = np.array([[0, 0, 0, 0, 0, 1, 0, 0, 0, 0, 0],\n",
    "                                         [0, 0, 0, 0, 0, 1, 0, 0, 0, 0, 0],\n",
    "                                         [0, 0, 0, 0, 0, 0, 0, 0, 0, 0, 0],\n",
    "                                         [0, 0, 0, 0, 0, 1, 0, 0, 0, 0, 0],\n",
    "                                         [0, 0, 0, 0, 0, 1, 0, 0, 0, 0, 0],\n",
    "                                         [1, 0, 1, 1, 1, 1, 0, 0, 0, 0, 0],\n",
    "                                         [0, 0, 0, 0, 0, 1, 1, 1, 0, 1, 1],\n",
    "                                         [0, 0, 0, 0, 0, 1, 0, 0, 0, 0, 0],\n",
    "                                         [0, 0, 0, 0, 0, 1, 0, 0, 0, 0, 0],\n",
    "                                         [0, 0, 0, 0, 0, 0, 0, 0, 0, 0, 0],\n",
    "                                         [0, 0, 0, 0, 0, 1, 0, 0, 0, 0, 0]])\n",
    "        \n",
    "        # find the positions for all empty cells\n",
    "        # not that: the origin for a 2-D numpy array is located at top-left while the origin for the FourRooms is at\n",
    "        # the bottom-left. The following codes performs the re-projection.\n",
    "        empty_cells = np.where(self.four_room_space == 0.0)\n",
    "        self.state_space = [[col, 10 - row] for row, col in zip(empty_cells[0], empty_cells[1])]\n",
    "\n",
    "        # define the action space\n",
    "        self.action_space = {'LEFT': np.array([-1, 0]),\n",
    "                             'RIGHT': np.array([1, 0]),\n",
    "                             'DOWN': np.array([0, -1]),\n",
    "                             'UP': np.array([0, 1])}\n",
    "        \n",
    "        # define the start state\n",
    "        self.start_state = [0, 0]\n",
    "        \n",
    "        # define the goal state\n",
    "        self.goal_state = [10, 10]\n",
    "\n",
    "                                                #########################\n",
    "                                                ##### MY WORK START #####\n",
    "                                                #########################\n",
    "    def reset(self):\n",
    "        \"\"\"\n",
    "        Reset the agent's state to the start state [0, 0]\n",
    "        Return both the start state and reward\n",
    "        \"\"\"\n",
    "        state = self.start_state  # reset the agent to [0, 0]\n",
    "        reward = 0  # reward is 0\n",
    "        return state, reward\n",
    "        \n",
    "    def step(self, state, act):\n",
    "        \"\"\"\n",
    "        Args: \n",
    "            state: a list variable containing x, y integer coordinates. (i.e., [1, 1]).\n",
    "            act: a string variable (i.e., \"UP\"). All feasible values are [\"UP\", \"DOWN\", \"LEFT\", \"RIGHT\"].\n",
    "        Output args: \n",
    "            next_state: a list variable containing x, y integer coordinates (i.e., [1, 1])\n",
    "            reward: an integer. it can be either 0 or 1.\n",
    "        \"\"\"\n",
    "        # Determine the potential directions the agent may \"slip\" based on the original action\n",
    "        poss_slip_dirs = [\"LEFT\", \"RIGHT\"] if act in [\"UP\", \"DOWN\"] else [\"UP\", \"DOWN\"]\n",
    "\n",
    "        # Determine if slipping\n",
    "        if random.random() < 0.8:\n",
    "            # If the random float is less than 0.8 (80% of the time), there is no slipping and the original action \n",
    "                # will not change\n",
    "            next_state = self.take_action(state, act)\n",
    "        else:\n",
    "            # If the random float is >= 0.8 (20% of the time), a random int (0 or 1) is created to determine which \n",
    "                # direction the agent slipped based on the possible directions identified above in poss_slip_dirs, \n",
    "                # resulting in a 10% likelyhood the agent slips in either perpendicular direction\n",
    "            next_state = self.take_action(state, poss_slip_dirs[random.randint(0,1)])\n",
    "        \n",
    "        # The only time reward is equal to 1 is when we reach [10, 10], otherwise it's 0\n",
    "        reward = 1 if next_state == [10, 10] else 0\n",
    "\n",
    "        return next_state, reward\n",
    "        \n",
    "                                                #######################\n",
    "                                                ##### MY WORK END #####\n",
    "                                                #######################\n",
    "        \n",
    "    \"\"\" DO NOT CHANGE BELOW \"\"\"\n",
    "    def take_action(self, state, act):\n",
    "        \"\"\"\n",
    "        Input args: \n",
    "            state (list): a list variable containing x, y integer coordinates. (i.e., [1, 1]).\n",
    "            act (string): a string variable (i.e., \"UP\"). All feasible values are [\"UP\", \"DOWN\", \"LEFT\", \"RIGHT\"].\n",
    "        Output args: \n",
    "            next_state (list): a list variable containing x, y integer coordinates (i.e., [1, 1])\n",
    "        \"\"\"\n",
    "        state = np.array(state)\n",
    "        next_state = state + self.action_space[act]\n",
    "        return next_state.tolist() if next_state.tolist() in self.state_space else state.tolist()"
   ]
  },
  {
   "cell_type": "code",
   "execution_count": 19,
   "metadata": {},
   "outputs": [],
   "source": [
    "\"\"\"Here is the plot function you can use to generate the figure. DO NOT CHANGE\"\"\"\n",
    "# PLOT FUNCTION\n",
    "def plot_func(res_list):\n",
    "    # set the figure size\n",
    "    plt.figure(figsize=(8, 6))\n",
    "    \n",
    "    # plot each trial\n",
    "    for re in res_list:\n",
    "        plt.plot(list(range(len(res_list[0]))), re, linestyle=\"--\", linewidth=1, alpha=0.7)\n",
    "\n",
    "    # plot mean reward\n",
    "    mean_reward = np.array(res_list).mean(axis=0).tolist()\n",
    "    plt.plot(list(range(len(res_list[0]))), mean_reward, linestyle=\"-\", linewidth=2, color=\"k\")\n",
    "\n",
    "    # plot the figure\n",
    "    plt.ylabel(\"Cumulative reward\")\n",
    "    plt.xlabel(\"Time step\")\n",
    "    plt.show()"
   ]
  },
  {
   "cell_type": "markdown",
   "metadata": {},
   "source": [
    "# 2 Implement the manual policy\n",
    "\n",
    "Use this to check your whether your implementation of the step function is correct."
   ]
  },
  {
   "cell_type": "code",
   "execution_count": null,
   "metadata": {},
   "outputs": [],
   "source": [
    "                                                #########################\n",
    "                                                ##### MY WORK START #####\n",
    "                                                #########################\n",
    "if __name__ == \"__main__\":\n",
    "    # fix the randomness for reproduction\n",
    "    random.seed(1234)\n",
    "    np.random.seed(1234)\n",
    "\n",
    "    # create the environment\n",
    "    env = FourRooms()\n",
    "    state, reward = env.reset()  # always call reset() before interaction\n",
    "    \n",
    "    # manual time step\n",
    "    time_step = 100\n",
    "\n",
    "    # Main loop\n",
    "    for t in range(time_step):\n",
    "        # Action input\n",
    "        action = input(\"Enter an action (\\\"UP\\\", \\\"DOWN\\\", \\\"LEFT\\\" or \\\"RIGHT\\\"): \")\n",
    "        \n",
    "        # Create a while loop in case I type in the wrong word\n",
    "        while action not in [\"UP\", \"DOWN\", \"LEFT\", \"RIGHT\"]:\n",
    "            action = input(f\"[INPUT]: \\\"{action}\\\" not a valid action. Please enter \\\"UP\\\", \\\"DOWN\\\", \\\"LEFT\\\" or \\\"RIGHT\\\": \")\n",
    "        \n",
    "        # Pass the current state and new action in to the step function\n",
    "        next_state, reward = env.step(state, action)\n",
    "        \n",
    "                                                #######################\n",
    "                                                ##### MY WORK END #####\n",
    "                                                #######################\n",
    "        \n",
    "        \"\"\"DO NOT CHANGE BELOW\"\"\"\n",
    "        # print interaction\n",
    "        print(f\"Step = {t}, state = {state}, action = {action}, next state = {next_state}, reward = {reward}\")\n",
    "        \n",
    "        # reset if the agent reaches the goal\n",
    "        if reward == 1:\n",
    "            print(\"Reset the agent to the start state!\")\n",
    "            state, reward = env.reset()\n",
    "        else:\n",
    "            state = next_state"
   ]
  },
  {
   "cell_type": "markdown",
   "metadata": {},
   "source": [
    "# 3 Implement a random policy\n",
    "\n",
    "We provide the scaffolding code for running and plotting. Please implement a random policy\n",
    "\n",
    "**Please note: you should read the code carefully before implementing to make sure the variable names are aligned.**"
   ]
  },
  {
   "cell_type": "code",
   "execution_count": 21,
   "metadata": {
    "scrolled": false
   },
   "outputs": [
    {
     "data": {
      "application/json": {
       "ascii": false,
       "bar_format": null,
       "colour": null,
       "elapsed": 0.01972198486328125,
       "initial": 0,
       "n": 0,
       "ncols": null,
       "nrows": 63,
       "postfix": null,
       "prefix": "Run trail",
       "rate": null,
       "total": 10,
       "unit": "it",
       "unit_divisor": 1000,
       "unit_scale": false
      },
      "application/vnd.jupyter.widget-view+json": {
       "model_id": "264b70e2f9484e0cbd6dbf4c642b3e88",
       "version_major": 2,
       "version_minor": 0
      },
      "text/plain": [
       "Run trail:   0%|          | 0/10 [00:00<?, ?it/s]"
      ]
     },
     "metadata": {},
     "output_type": "display_data"
    },
    {
     "data": {
      "application/json": {
       "ascii": false,
       "bar_format": null,
       "colour": null,
       "elapsed": 0.018227338790893555,
       "initial": 0,
       "n": 0,
       "ncols": null,
       "nrows": 63,
       "postfix": null,
       "prefix": "Episode",
       "rate": null,
       "total": 10000,
       "unit": "it",
       "unit_divisor": 1000,
       "unit_scale": false
      },
      "application/vnd.jupyter.widget-view+json": {
       "model_id": "",
       "version_major": 2,
       "version_minor": 0
      },
      "text/plain": [
       "Episode:   0%|          | 0/10000 [00:00<?, ?it/s]"
      ]
     },
     "metadata": {},
     "output_type": "display_data"
    },
    {
     "data": {
      "application/json": {
       "ascii": false,
       "bar_format": null,
       "colour": null,
       "elapsed": 0.017039775848388672,
       "initial": 0,
       "n": 0,
       "ncols": null,
       "nrows": 63,
       "postfix": null,
       "prefix": "Episode",
       "rate": null,
       "total": 10000,
       "unit": "it",
       "unit_divisor": 1000,
       "unit_scale": false
      },
      "application/vnd.jupyter.widget-view+json": {
       "model_id": "",
       "version_major": 2,
       "version_minor": 0
      },
      "text/plain": [
       "Episode:   0%|          | 0/10000 [00:00<?, ?it/s]"
      ]
     },
     "metadata": {},
     "output_type": "display_data"
    },
    {
     "data": {
      "application/json": {
       "ascii": false,
       "bar_format": null,
       "colour": null,
       "elapsed": 0.014172077178955078,
       "initial": 0,
       "n": 0,
       "ncols": null,
       "nrows": 63,
       "postfix": null,
       "prefix": "Episode",
       "rate": null,
       "total": 10000,
       "unit": "it",
       "unit_divisor": 1000,
       "unit_scale": false
      },
      "application/vnd.jupyter.widget-view+json": {
       "model_id": "",
       "version_major": 2,
       "version_minor": 0
      },
      "text/plain": [
       "Episode:   0%|          | 0/10000 [00:00<?, ?it/s]"
      ]
     },
     "metadata": {},
     "output_type": "display_data"
    },
    {
     "data": {
      "application/json": {
       "ascii": false,
       "bar_format": null,
       "colour": null,
       "elapsed": 0.015598773956298828,
       "initial": 0,
       "n": 0,
       "ncols": null,
       "nrows": 63,
       "postfix": null,
       "prefix": "Episode",
       "rate": null,
       "total": 10000,
       "unit": "it",
       "unit_divisor": 1000,
       "unit_scale": false
      },
      "application/vnd.jupyter.widget-view+json": {
       "model_id": "",
       "version_major": 2,
       "version_minor": 0
      },
      "text/plain": [
       "Episode:   0%|          | 0/10000 [00:00<?, ?it/s]"
      ]
     },
     "metadata": {},
     "output_type": "display_data"
    },
    {
     "data": {
      "application/json": {
       "ascii": false,
       "bar_format": null,
       "colour": null,
       "elapsed": 0.01371312141418457,
       "initial": 0,
       "n": 0,
       "ncols": null,
       "nrows": 63,
       "postfix": null,
       "prefix": "Episode",
       "rate": null,
       "total": 10000,
       "unit": "it",
       "unit_divisor": 1000,
       "unit_scale": false
      },
      "application/vnd.jupyter.widget-view+json": {
       "model_id": "",
       "version_major": 2,
       "version_minor": 0
      },
      "text/plain": [
       "Episode:   0%|          | 0/10000 [00:00<?, ?it/s]"
      ]
     },
     "metadata": {},
     "output_type": "display_data"
    },
    {
     "data": {
      "application/json": {
       "ascii": false,
       "bar_format": null,
       "colour": null,
       "elapsed": 0.014400959014892578,
       "initial": 0,
       "n": 0,
       "ncols": null,
       "nrows": 63,
       "postfix": null,
       "prefix": "Episode",
       "rate": null,
       "total": 10000,
       "unit": "it",
       "unit_divisor": 1000,
       "unit_scale": false
      },
      "application/vnd.jupyter.widget-view+json": {
       "model_id": "",
       "version_major": 2,
       "version_minor": 0
      },
      "text/plain": [
       "Episode:   0%|          | 0/10000 [00:00<?, ?it/s]"
      ]
     },
     "metadata": {},
     "output_type": "display_data"
    },
    {
     "data": {
      "application/json": {
       "ascii": false,
       "bar_format": null,
       "colour": null,
       "elapsed": 0.013221025466918945,
       "initial": 0,
       "n": 0,
       "ncols": null,
       "nrows": 63,
       "postfix": null,
       "prefix": "Episode",
       "rate": null,
       "total": 10000,
       "unit": "it",
       "unit_divisor": 1000,
       "unit_scale": false
      },
      "application/vnd.jupyter.widget-view+json": {
       "model_id": "",
       "version_major": 2,
       "version_minor": 0
      },
      "text/plain": [
       "Episode:   0%|          | 0/10000 [00:00<?, ?it/s]"
      ]
     },
     "metadata": {},
     "output_type": "display_data"
    },
    {
     "data": {
      "application/json": {
       "ascii": false,
       "bar_format": null,
       "colour": null,
       "elapsed": 0.013577938079833984,
       "initial": 0,
       "n": 0,
       "ncols": null,
       "nrows": 63,
       "postfix": null,
       "prefix": "Episode",
       "rate": null,
       "total": 10000,
       "unit": "it",
       "unit_divisor": 1000,
       "unit_scale": false
      },
      "application/vnd.jupyter.widget-view+json": {
       "model_id": "",
       "version_major": 2,
       "version_minor": 0
      },
      "text/plain": [
       "Episode:   0%|          | 0/10000 [00:00<?, ?it/s]"
      ]
     },
     "metadata": {},
     "output_type": "display_data"
    },
    {
     "data": {
      "application/json": {
       "ascii": false,
       "bar_format": null,
       "colour": null,
       "elapsed": 0.015553951263427734,
       "initial": 0,
       "n": 0,
       "ncols": null,
       "nrows": 63,
       "postfix": null,
       "prefix": "Episode",
       "rate": null,
       "total": 10000,
       "unit": "it",
       "unit_divisor": 1000,
       "unit_scale": false
      },
      "application/vnd.jupyter.widget-view+json": {
       "model_id": "",
       "version_major": 2,
       "version_minor": 0
      },
      "text/plain": [
       "Episode:   0%|          | 0/10000 [00:00<?, ?it/s]"
      ]
     },
     "metadata": {},
     "output_type": "display_data"
    },
    {
     "data": {
      "application/json": {
       "ascii": false,
       "bar_format": null,
       "colour": null,
       "elapsed": 0.014185190200805664,
       "initial": 0,
       "n": 0,
       "ncols": null,
       "nrows": 63,
       "postfix": null,
       "prefix": "Episode",
       "rate": null,
       "total": 10000,
       "unit": "it",
       "unit_divisor": 1000,
       "unit_scale": false
      },
      "application/vnd.jupyter.widget-view+json": {
       "model_id": "",
       "version_major": 2,
       "version_minor": 0
      },
      "text/plain": [
       "Episode:   0%|          | 0/10000 [00:00<?, ?it/s]"
      ]
     },
     "metadata": {},
     "output_type": "display_data"
    },
    {
     "data": {
      "image/png": "[encoded data removed]",
      "text/plain": [
       "<Figure size 800x600 with 1 Axes>"
      ]
     },
     "metadata": {},
     "output_type": "display_data"
    }
   ],
   "source": [
    "                                                #########################\n",
    "                                                ##### MY WORK START #####\n",
    "                                                #########################\n",
    "if __name__ == \"__main__\":\n",
    "    # fix the randomness for reproduction\n",
    "    random.seed(1234)\n",
    "    np.random.seed(1234)\n",
    "    \n",
    "    # create Env\n",
    "    env = FourRooms()\n",
    "\n",
    "    # number of trials\n",
    "    trial_num = 10   \n",
    "    # length of each trial\n",
    "    trial_length = int(1e4)\n",
    "    \n",
    "    # Initialize rewards for plot\n",
    "    rewards_list = []\n",
    "    \n",
    "    # List of possible actions\n",
    "    actions = [\"UP\", \"DOWN\", \"LEFT\", \"RIGHT\"]\n",
    "    \n",
    "    # Main loop\n",
    "    for e in tqdm.tqdm(range(trial_num), desc=\"Run trail\", position=0):\n",
    "        \n",
    "        # Initialize rewards\n",
    "        reward_per_trial = []\n",
    "        reward_counter = 0\n",
    "    \n",
    "        # reset \n",
    "        state, reward = env.reset()\n",
    "        \n",
    "        # Loop for each trial\n",
    "        for t in tqdm.tqdm(range(trial_length), desc=\"Episode\", position=1, leave=False):            \n",
    "            # Select a random index of the list by creating a random interger 0, 1, 2 or 3\n",
    "            action = actions[random.randint(0,3)]\n",
    "                       \n",
    "            # Pass the current state and new action in to the step function\n",
    "            next_state, reward = env.step(state, action)\n",
    "        \n",
    "            # save the reward\n",
    "            reward_counter += reward\n",
    "            reward_per_trial.append(reward_counter)\n",
    "            \n",
    "            # reset\n",
    "            if reward == 1:\n",
    "                state, reward = env.reset()\n",
    "            else:\n",
    "                state = next_state\n",
    "\n",
    "        # save the rewards\n",
    "        rewards_list.append(reward_per_trial)\n",
    "        \n",
    "# PLOT THE RESULTS\n",
    "plot_func(rewards_list)\n",
    "                                                #######################\n",
    "                                                ##### MY WORK END #####\n",
    "                                                #######################"
   ]
  },
  {
   "cell_type": "markdown",
   "metadata": {},
   "source": [
    "# 4 Implement better & worse policies against the Random Policy"
   ]
  },
  {
   "cell_type": "code",
   "execution_count": 22,
   "metadata": {},
   "outputs": [
    {
     "data": {
      "application/json": {
       "ascii": false,
       "bar_format": null,
       "colour": null,
       "elapsed": 0.021680116653442383,
       "initial": 0,
       "n": 0,
       "ncols": null,
       "nrows": 63,
       "postfix": null,
       "prefix": "Run trail",
       "rate": null,
       "total": 10,
       "unit": "it",
       "unit_divisor": 1000,
       "unit_scale": false
      },
      "application/vnd.jupyter.widget-view+json": {
       "model_id": "48177c51e2bc41a09e097a580f11710a",
       "version_major": 2,
       "version_minor": 0
      },
      "text/plain": [
       "Run trail:   0%|          | 0/10 [00:00<?, ?it/s]"
      ]
     },
     "metadata": {},
     "output_type": "display_data"
    },
    {
     "data": {
      "application/json": {
       "ascii": false,
       "bar_format": null,
       "colour": null,
       "elapsed": 0.10161304473876953,
       "initial": 0,
       "n": 0,
       "ncols": null,
       "nrows": 63,
       "postfix": null,
       "prefix": "Episode",
       "rate": null,
       "total": 10000,
       "unit": "it",
       "unit_divisor": 1000,
       "unit_scale": false
      },
      "application/vnd.jupyter.widget-view+json": {
       "model_id": "",
       "version_major": 2,
       "version_minor": 0
      },
      "text/plain": [
       "Episode:   0%|          | 0/10000 [00:00<?, ?it/s]"
      ]
     },
     "metadata": {},
     "output_type": "display_data"
    },
    {
     "data": {
      "application/json": {
       "ascii": false,
       "bar_format": null,
       "colour": null,
       "elapsed": 0.013382911682128906,
       "initial": 0,
       "n": 0,
       "ncols": null,
       "nrows": 63,
       "postfix": null,
       "prefix": "Episode",
       "rate": null,
       "total": 10000,
       "unit": "it",
       "unit_divisor": 1000,
       "unit_scale": false
      },
      "application/vnd.jupyter.widget-view+json": {
       "model_id": "",
       "version_major": 2,
       "version_minor": 0
      },
      "text/plain": [
       "Episode:   0%|          | 0/10000 [00:00<?, ?it/s]"
      ]
     },
     "metadata": {},
     "output_type": "display_data"
    },
    {
     "data": {
      "application/json": {
       "ascii": false,
       "bar_format": null,
       "colour": null,
       "elapsed": 0.014182090759277344,
       "initial": 0,
       "n": 0,
       "ncols": null,
       "nrows": 63,
       "postfix": null,
       "prefix": "Episode",
       "rate": null,
       "total": 10000,
       "unit": "it",
       "unit_divisor": 1000,
       "unit_scale": false
      },
      "application/vnd.jupyter.widget-view+json": {
       "model_id": "",
       "version_major": 2,
       "version_minor": 0
      },
      "text/plain": [
       "Episode:   0%|          | 0/10000 [00:00<?, ?it/s]"
      ]
     },
     "metadata": {},
     "output_type": "display_data"
    },
    {
     "data": {
      "application/json": {
       "ascii": false,
       "bar_format": null,
       "colour": null,
       "elapsed": 0.013616085052490234,
       "initial": 0,
       "n": 0,
       "ncols": null,
       "nrows": 63,
       "postfix": null,
       "prefix": "Episode",
       "rate": null,
       "total": 10000,
       "unit": "it",
       "unit_divisor": 1000,
       "unit_scale": false
      },
      "application/vnd.jupyter.widget-view+json": {
       "model_id": "",
       "version_major": 2,
       "version_minor": 0
      },
      "text/plain": [
       "Episode:   0%|          | 0/10000 [00:00<?, ?it/s]"
      ]
     },
     "metadata": {},
     "output_type": "display_data"
    },
    {
     "data": {
      "application/json": {
       "ascii": false,
       "bar_format": null,
       "colour": null,
       "elapsed": 0.014079093933105469,
       "initial": 0,
       "n": 0,
       "ncols": null,
       "nrows": 63,
       "postfix": null,
       "prefix": "Episode",
       "rate": null,
       "total": 10000,
       "unit": "it",
       "unit_divisor": 1000,
       "unit_scale": false
      },
      "application/vnd.jupyter.widget-view+json": {
       "model_id": "",
       "version_major": 2,
       "version_minor": 0
      },
      "text/plain": [
       "Episode:   0%|          | 0/10000 [00:00<?, ?it/s]"
      ]
     },
     "metadata": {},
     "output_type": "display_data"
    },
    {
     "data": {
      "application/json": {
       "ascii": false,
       "bar_format": null,
       "colour": null,
       "elapsed": 0.016213178634643555,
       "initial": 0,
       "n": 0,
       "ncols": null,
       "nrows": 63,
       "postfix": null,
       "prefix": "Episode",
       "rate": null,
       "total": 10000,
       "unit": "it",
       "unit_divisor": 1000,
       "unit_scale": false
      },
      "application/vnd.jupyter.widget-view+json": {
       "model_id": "",
       "version_major": 2,
       "version_minor": 0
      },
      "text/plain": [
       "Episode:   0%|          | 0/10000 [00:00<?, ?it/s]"
      ]
     },
     "metadata": {},
     "output_type": "display_data"
    },
    {
     "data": {
      "application/json": {
       "ascii": false,
       "bar_format": null,
       "colour": null,
       "elapsed": 0.013604164123535156,
       "initial": 0,
       "n": 0,
       "ncols": null,
       "nrows": 63,
       "postfix": null,
       "prefix": "Episode",
       "rate": null,
       "total": 10000,
       "unit": "it",
       "unit_divisor": 1000,
       "unit_scale": false
      },
      "application/vnd.jupyter.widget-view+json": {
       "model_id": "",
       "version_major": 2,
       "version_minor": 0
      },
      "text/plain": [
       "Episode:   0%|          | 0/10000 [00:00<?, ?it/s]"
      ]
     },
     "metadata": {},
     "output_type": "display_data"
    },
    {
     "data": {
      "application/json": {
       "ascii": false,
       "bar_format": null,
       "colour": null,
       "elapsed": 0.013627052307128906,
       "initial": 0,
       "n": 0,
       "ncols": null,
       "nrows": 63,
       "postfix": null,
       "prefix": "Episode",
       "rate": null,
       "total": 10000,
       "unit": "it",
       "unit_divisor": 1000,
       "unit_scale": false
      },
      "application/vnd.jupyter.widget-view+json": {
       "model_id": "",
       "version_major": 2,
       "version_minor": 0
      },
      "text/plain": [
       "Episode:   0%|          | 0/10000 [00:00<?, ?it/s]"
      ]
     },
     "metadata": {},
     "output_type": "display_data"
    },
    {
     "data": {
      "application/json": {
       "ascii": false,
       "bar_format": null,
       "colour": null,
       "elapsed": 0.013847112655639648,
       "initial": 0,
       "n": 0,
       "ncols": null,
       "nrows": 63,
       "postfix": null,
       "prefix": "Episode",
       "rate": null,
       "total": 10000,
       "unit": "it",
       "unit_divisor": 1000,
       "unit_scale": false
      },
      "application/vnd.jupyter.widget-view+json": {
       "model_id": "",
       "version_major": 2,
       "version_minor": 0
      },
      "text/plain": [
       "Episode:   0%|          | 0/10000 [00:00<?, ?it/s]"
      ]
     },
     "metadata": {},
     "output_type": "display_data"
    },
    {
     "data": {
      "application/json": {
       "ascii": false,
       "bar_format": null,
       "colour": null,
       "elapsed": 0.014401912689208984,
       "initial": 0,
       "n": 0,
       "ncols": null,
       "nrows": 63,
       "postfix": null,
       "prefix": "Episode",
       "rate": null,
       "total": 10000,
       "unit": "it",
       "unit_divisor": 1000,
       "unit_scale": false
      },
      "application/vnd.jupyter.widget-view+json": {
       "model_id": "",
       "version_major": 2,
       "version_minor": 0
      },
      "text/plain": [
       "Episode:   0%|          | 0/10000 [00:00<?, ?it/s]"
      ]
     },
     "metadata": {},
     "output_type": "display_data"
    },
    {
     "data": {
      "image/png": "[encoded data removed]",
      "text/plain": [
       "<Figure size 800x600 with 1 Axes>"
      ]
     },
     "metadata": {},
     "output_type": "display_data"
    }
   ],
   "source": [
    "                                                #########################\n",
    "                                                ##### MY WORK START #####\n",
    "                                                #########################\n",
    "# WORSE POLICY\n",
    "if __name__ == \"__main__\":\n",
    "    # fix the randomness for reproduction\n",
    "    random.seed(1234)\n",
    "    np.random.seed(1234)\n",
    "    \n",
    "    # create Env\n",
    "    env = FourRooms()\n",
    "\n",
    "    # number of trials\n",
    "    trial_num = 10   \n",
    "    # length of each trial\n",
    "    trial_length = int(1e4)\n",
    "    \n",
    "    # Initialize rewards for plot\n",
    "    rewards_list = []\n",
    "    \n",
    "    # List of possible actions\n",
    "    actions = [\"UP\", \"DOWN\", \"LEFT\", \"RIGHT\"]\n",
    "    \n",
    "    # Main loop\n",
    "    for e in tqdm.tqdm(range(trial_num), desc=\"Run trail\", position=0):\n",
    "        \n",
    "        # reset for every trail\n",
    "        reward_per_trial = []\n",
    "        reward_counter = 0\n",
    "    \n",
    "        # reset the environment \n",
    "        state, reward = env.reset()\n",
    "        \n",
    "        # Loop for each trial\n",
    "        for t in tqdm.tqdm(range(trial_length), desc=\"Episode\", position=1, leave=False):\n",
    "            # Select a random index of the list by creating a random interger 0, 1, 2 or 3\n",
    "            action = actions[random.randint(0,3)]\n",
    "            if t == 0:\n",
    "                last_action = \"\"\n",
    "                \n",
    "            # While loop that picks a new random action if the actions were consecutive. This loop makes\n",
    "                # it so there wont be 2 of the same actions in a row, ex. UP then another UP\n",
    "            while last_action == action:\n",
    "                action = actions[random.randint(0,3)]\n",
    "            last_action = action\n",
    "            \n",
    "            # Pass the current state and new action in to the step function\n",
    "            next_state, reward = env.step(state, action)\n",
    "            \n",
    "            # save the reward\n",
    "            reward_counter += reward\n",
    "            reward_per_trial.append(reward_counter)\n",
    "            \n",
    "            # reset\n",
    "            if reward == 1:\n",
    "                state, reward = env.reset()\n",
    "            else:\n",
    "                state = next_state\n",
    "\n",
    "        # save the rewards\n",
    "        rewards_list.append(reward_per_trial)\n",
    "        \n",
    "# PLOT THE RESULTS\n",
    "plot_func(rewards_list)\n",
    "                                                #######################\n",
    "                                                ##### MY WORK END #####\n",
    "                                                #######################"
   ]
  },
  {
   "cell_type": "code",
   "execution_count": 23,
   "metadata": {},
   "outputs": [
    {
     "data": {
      "application/json": {
       "ascii": false,
       "bar_format": null,
       "colour": null,
       "elapsed": 0.0199129581451416,
       "initial": 0,
       "n": 0,
       "ncols": null,
       "nrows": 63,
       "postfix": null,
       "prefix": "Run trail",
       "rate": null,
       "total": 10,
       "unit": "it",
       "unit_divisor": 1000,
       "unit_scale": false
      },
      "application/vnd.jupyter.widget-view+json": {
       "model_id": "3c0cec6ce26143c49d5dc88fcdc320fd",
       "version_major": 2,
       "version_minor": 0
      },
      "text/plain": [
       "Run trail:   0%|          | 0/10 [00:00<?, ?it/s]"
      ]
     },
     "metadata": {},
     "output_type": "display_data"
    },
    {
     "data": {
      "application/json": {
       "ascii": false,
       "bar_format": null,
       "colour": null,
       "elapsed": 0.015986919403076172,
       "initial": 0,
       "n": 0,
       "ncols": null,
       "nrows": 63,
       "postfix": null,
       "prefix": "Episode",
       "rate": null,
       "total": 10000,
       "unit": "it",
       "unit_divisor": 1000,
       "unit_scale": false
      },
      "application/vnd.jupyter.widget-view+json": {
       "model_id": "",
       "version_major": 2,
       "version_minor": 0
      },
      "text/plain": [
       "Episode:   0%|          | 0/10000 [00:00<?, ?it/s]"
      ]
     },
     "metadata": {},
     "output_type": "display_data"
    },
    {
     "data": {
      "application/json": {
       "ascii": false,
       "bar_format": null,
       "colour": null,
       "elapsed": 0.012965679168701172,
       "initial": 0,
       "n": 0,
       "ncols": null,
       "nrows": 63,
       "postfix": null,
       "prefix": "Episode",
       "rate": null,
       "total": 10000,
       "unit": "it",
       "unit_divisor": 1000,
       "unit_scale": false
      },
      "application/vnd.jupyter.widget-view+json": {
       "model_id": "",
       "version_major": 2,
       "version_minor": 0
      },
      "text/plain": [
       "Episode:   0%|          | 0/10000 [00:00<?, ?it/s]"
      ]
     },
     "metadata": {},
     "output_type": "display_data"
    },
    {
     "data": {
      "application/json": {
       "ascii": false,
       "bar_format": null,
       "colour": null,
       "elapsed": 0.014473915100097656,
       "initial": 0,
       "n": 0,
       "ncols": null,
       "nrows": 63,
       "postfix": null,
       "prefix": "Episode",
       "rate": null,
       "total": 10000,
       "unit": "it",
       "unit_divisor": 1000,
       "unit_scale": false
      },
      "application/vnd.jupyter.widget-view+json": {
       "model_id": "",
       "version_major": 2,
       "version_minor": 0
      },
      "text/plain": [
       "Episode:   0%|          | 0/10000 [00:00<?, ?it/s]"
      ]
     },
     "metadata": {},
     "output_type": "display_data"
    },
    {
     "data": {
      "application/json": {
       "ascii": false,
       "bar_format": null,
       "colour": null,
       "elapsed": 0.014485836029052734,
       "initial": 0,
       "n": 0,
       "ncols": null,
       "nrows": 63,
       "postfix": null,
       "prefix": "Episode",
       "rate": null,
       "total": 10000,
       "unit": "it",
       "unit_divisor": 1000,
       "unit_scale": false
      },
      "application/vnd.jupyter.widget-view+json": {
       "model_id": "",
       "version_major": 2,
       "version_minor": 0
      },
      "text/plain": [
       "Episode:   0%|          | 0/10000 [00:00<?, ?it/s]"
      ]
     },
     "metadata": {},
     "output_type": "display_data"
    },
    {
     "data": {
      "application/json": {
       "ascii": false,
       "bar_format": null,
       "colour": null,
       "elapsed": 0.01602029800415039,
       "initial": 0,
       "n": 0,
       "ncols": null,
       "nrows": 63,
       "postfix": null,
       "prefix": "Episode",
       "rate": null,
       "total": 10000,
       "unit": "it",
       "unit_divisor": 1000,
       "unit_scale": false
      },
      "application/vnd.jupyter.widget-view+json": {
       "model_id": "",
       "version_major": 2,
       "version_minor": 0
      },
      "text/plain": [
       "Episode:   0%|          | 0/10000 [00:00<?, ?it/s]"
      ]
     },
     "metadata": {},
     "output_type": "display_data"
    },
    {
     "data": {
      "application/json": {
       "ascii": false,
       "bar_format": null,
       "colour": null,
       "elapsed": 0.014005184173583984,
       "initial": 0,
       "n": 0,
       "ncols": null,
       "nrows": 63,
       "postfix": null,
       "prefix": "Episode",
       "rate": null,
       "total": 10000,
       "unit": "it",
       "unit_divisor": 1000,
       "unit_scale": false
      },
      "application/vnd.jupyter.widget-view+json": {
       "model_id": "",
       "version_major": 2,
       "version_minor": 0
      },
      "text/plain": [
       "Episode:   0%|          | 0/10000 [00:00<?, ?it/s]"
      ]
     },
     "metadata": {},
     "output_type": "display_data"
    },
    {
     "data": {
      "application/json": {
       "ascii": false,
       "bar_format": null,
       "colour": null,
       "elapsed": 0.013289928436279297,
       "initial": 0,
       "n": 0,
       "ncols": null,
       "nrows": 63,
       "postfix": null,
       "prefix": "Episode",
       "rate": null,
       "total": 10000,
       "unit": "it",
       "unit_divisor": 1000,
       "unit_scale": false
      },
      "application/vnd.jupyter.widget-view+json": {
       "model_id": "",
       "version_major": 2,
       "version_minor": 0
      },
      "text/plain": [
       "Episode:   0%|          | 0/10000 [00:00<?, ?it/s]"
      ]
     },
     "metadata": {},
     "output_type": "display_data"
    },
    {
     "data": {
      "application/json": {
       "ascii": false,
       "bar_format": null,
       "colour": null,
       "elapsed": 0.013986587524414062,
       "initial": 0,
       "n": 0,
       "ncols": null,
       "nrows": 63,
       "postfix": null,
       "prefix": "Episode",
       "rate": null,
       "total": 10000,
       "unit": "it",
       "unit_divisor": 1000,
       "unit_scale": false
      },
      "application/vnd.jupyter.widget-view+json": {
       "model_id": "",
       "version_major": 2,
       "version_minor": 0
      },
      "text/plain": [
       "Episode:   0%|          | 0/10000 [00:00<?, ?it/s]"
      ]
     },
     "metadata": {},
     "output_type": "display_data"
    },
    {
     "data": {
      "application/json": {
       "ascii": false,
       "bar_format": null,
       "colour": null,
       "elapsed": 0.014123201370239258,
       "initial": 0,
       "n": 0,
       "ncols": null,
       "nrows": 63,
       "postfix": null,
       "prefix": "Episode",
       "rate": null,
       "total": 10000,
       "unit": "it",
       "unit_divisor": 1000,
       "unit_scale": false
      },
      "application/vnd.jupyter.widget-view+json": {
       "model_id": "",
       "version_major": 2,
       "version_minor": 0
      },
      "text/plain": [
       "Episode:   0%|          | 0/10000 [00:00<?, ?it/s]"
      ]
     },
     "metadata": {},
     "output_type": "display_data"
    },
    {
     "data": {
      "application/json": {
       "ascii": false,
       "bar_format": null,
       "colour": null,
       "elapsed": 0.014676094055175781,
       "initial": 0,
       "n": 0,
       "ncols": null,
       "nrows": 63,
       "postfix": null,
       "prefix": "Episode",
       "rate": null,
       "total": 10000,
       "unit": "it",
       "unit_divisor": 1000,
       "unit_scale": false
      },
      "application/vnd.jupyter.widget-view+json": {
       "model_id": "",
       "version_major": 2,
       "version_minor": 0
      },
      "text/plain": [
       "Episode:   0%|          | 0/10000 [00:00<?, ?it/s]"
      ]
     },
     "metadata": {},
     "output_type": "display_data"
    },
    {
     "data": {
      "image/png": "[encoded data removed]",
      "text/plain": [
       "<Figure size 800x600 with 1 Axes>"
      ]
     },
     "metadata": {},
     "output_type": "display_data"
    }
   ],
   "source": [
    "                                                #########################\n",
    "                                                ##### MY WORK START #####\n",
    "                                                #########################\n",
    "# BETTER POLICY\n",
    "if __name__ == \"__main__\":\n",
    "    # fix the randomness for reproduction\n",
    "    random.seed(1234)\n",
    "    np.random.seed(1234)\n",
    "    \n",
    "    # create Env\n",
    "    env = FourRooms()\n",
    "\n",
    "    # number of trials\n",
    "    trial_num = 10   \n",
    "    # length of each trial\n",
    "    trial_length = int(1e4)\n",
    "    \n",
    "    # Initialize rewards for plot\n",
    "    rewards_list = []\n",
    "    \n",
    "#     # List of possible actions\n",
    "#     actions = [\"UP\", \"DOWN\", \"LEFT\", \"RIGHT\"]\n",
    "    \n",
    "    # Main loop\n",
    "    for e in tqdm.tqdm(range(trial_num), desc=\"Run trail\", position=0):\n",
    "\n",
    "        # reset for every trial\n",
    "        reward_per_trial = []\n",
    "        reward_counter = 0\n",
    "\n",
    "        # reset the environment\n",
    "        state, reward = env.reset()\n",
    "\n",
    "        # Loop for each trial\n",
    "        for t in tqdm.tqdm(range(trial_length), desc=\"Episode\", position=1, leave=False):\n",
    "            \n",
    "            # Create a random float between 0 and 1. If it is less than 0.7 (70% of the time), the action\n",
    "                # will be either UP or RIGHT. Otherwise (30% of the time), it will be DOWN or LEFT\n",
    "            actions = [\"UP\", \"RIGHT\"] if random.random() < 0.7 else [\"DOWN\", \"LEFT\"]\n",
    "                \n",
    "            # Based on the 2 actions selected above, pick a random one\n",
    "            action = actions[random.randint(0,1)]  \n",
    "\n",
    "            # Pass the current state and new action in to the step function\n",
    "            next_state, reward = env.step(state, action)\n",
    "\n",
    "            # save the reward\n",
    "            reward_counter += reward\n",
    "            reward_per_trial.append(reward_counter)\n",
    "\n",
    "            # reset\n",
    "            if reward == 1:\n",
    "                state, reward = env.reset()\n",
    "            else:\n",
    "                state = next_state\n",
    "\n",
    "        # save the rewards\n",
    "        rewards_list.append(reward_per_trial)\n",
    "\n",
    "# PLOT THE RESULTS\n",
    "plot_func(rewards_list)\n",
    "\n",
    "                                                #######################\n",
    "                                                ##### MY WORK END #####\n",
    "                                                #######################"
   ]
  },
  {
   "cell_type": "code",
   "execution_count": null,
   "metadata": {},
   "outputs": [],
   "source": []
  }
 ],
 "metadata": {
  "kernelspec": {
   "display_name": "Python 3 (ipykernel)",
   "language": "python",
   "name": "python3"
  },
  "language_info": {
   "codemirror_mode": {
    "name": "ipython",
    "version": 3
   },
   "file_extension": ".py",
   "mimetype": "text/x-python",
   "name": "python",
   "nbconvert_exporter": "python",
   "pygments_lexer": "ipython3",
   "version": "3.9.5"
  }
 },
 "nbformat": 4,
 "nbformat_minor": 4
}
